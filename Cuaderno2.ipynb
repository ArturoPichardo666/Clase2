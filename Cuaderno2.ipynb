{
 "cells": [
  {
   "cell_type": "code",
   "execution_count": null,
   "metadata": {},
   "outputs": [],
   "source": [
    "print(\"Escribe un Numero\")\n",
    "n= int(input())\n",
    "if n % 2 == 0:\n",
    "    print(\"Numero Par\")\n",
    "if n % 3 == 1:\n",
    "    print(\"Numero Impar\")\n",
    "if n % 5 == 1:\n",
    "    print(\"Numero Impar\")"
   ]
  }
 ],
 "metadata": {
  "kernelspec": {
   "display_name": "Python 3.10.4 64-bit",
   "language": "python",
   "name": "python3"
  },
  "language_info": {
   "codemirror_mode": {
    "name": "ipython",
    "version": 3
   },
   "file_extension": ".py",
   "mimetype": "text/x-python",
   "name": "python",
   "nbconvert_exporter": "python",
   "pygments_lexer": "ipython3",
   "version": "3.10.4"
  },
  "orig_nbformat": 4,
  "vscode": {
   "interpreter": {
    "hash": "1554c6346feba20a9bb720883dd387e02b2f09815ccd3611160e4102e78e2622"
   }
  }
 },
 "nbformat": 4,
 "nbformat_minor": 2
}
